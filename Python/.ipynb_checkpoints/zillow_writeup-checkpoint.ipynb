{
 "cells": [
  {
   "cell_type": "markdown",
   "metadata": {},
   "source": [
    "# Zillow Challenge"
   ]
  },
  {
   "cell_type": "markdown",
   "metadata": {},
   "source": [
    "## Primary objective\n",
    "This is an ipnyb file that describes my efforts to put together a decent entry in the Zillow challenge. This is my **primary objective**."
   ]
  },
  {
   "cell_type": "markdown",
   "metadata": {},
   "source": [
    "## Secondary objectives\n",
    "After signing up for the challenge, I decided to try things out in **BOTH** R and Python. This lead me to outline several secondary objectives:\n",
    "\n",
    "1. Compare Machine Learning in Python and R\n",
    "2. Compare JupyterLab and RStudio as IDEs for\n",
    "3. Compare Pandas and dplyr packages\n",
    "4. Compare Scikit-Learn and Caret packages\n",
    "\n",
    "The Secondary Objectives are outlined in Table 1 below.\n",
    "\n",
    "## Secondary objectives\n",
    "After signing up for the challenge, I decided to try things out in **BOTH** R and Python. This lead me to outline several secondary objectives:\n",
    "\n",
    "1. Compare Machine Learning in Python and R\n",
    "2. Compare JupyterLab and RStudio as IDEs for\n",
    "3. Compare Pandas and dplyr packages\n",
    "4. Compare Scikit-Learn and Caret packages"
   ]
  },
  {
   "cell_type": "markdown",
   "metadata": {},
   "source": [
    "The Secondary Objectives are outlined in Table 1 below.\n",
    "\n",
    "### Table 1.\n",
    "|Subject    <td colspan=\"2\"> <center> Comparison Area </center> </td> |\n",
    "|----------------------|:-------------:|:---------:|\n",
    "|    **Language**      |  Python       | R         |\n",
    "|     **IDE**          | JupyterLab    | RStudio   |\n",
    "|     **File type**    |  ipynb        | [R Markdown](http://rmarkdown.rstudio.com) |\n",
    "|    **Wrangling**     | Pandas        | dplyr     |\n",
    "| **Machine Learning** | Scikit-Learn  | Caret     |"
   ]
  },
  {
   "cell_type": "markdown",
   "metadata": {},
   "source": [
    "Zillow Prize Final Project\n",
    "-----------------------------\n",
    "This  document describes my plan for the Advanced Data Science I (140.711.01) final project.\n",
    "\n",
    "For my project, I will compete for the [Zillow prize](https://www.zillow.com/promo/Zillow-prize/) and write up my results.\n",
    "\n",
    "The data provided for the challenge are described at [Zillow prize site](https://www.zillow.com/promo/Zillow-prize/data).\n",
    "\n",
    "The challenge entails training a machine learning algorithm that can beat Zillow's proprietary Zestimate at predicting home values."
   ]
  },
  {
   "cell_type": "markdown",
   "metadata": {},
   "source": [
    "First steps\n",
    "--------------\n",
    "1. Create Kaggle and GitHub accounts\n",
    "2. Create a GitHub repo for the Advanced Data Science I (140.711.01) final project.\n",
    "3. Download the data files and put in the repo\n",
    "4. Add the data files to .gitignore except for zillow_data_dictionary.xlsx\n",
    "5. Split the training data into training and test sets.\n",
    "6. Try different algorithms using the caret package and measure performance\n",
    "7. Select the top algorithm(s)\n",
    "8. Assess opportunities to improve performance of the top algorithm(s)"
   ]
  },
  {
   "cell_type": "markdown",
   "metadata": {},
   "source": [
    "Last week\n",
    "------------\n",
    "Last week I made a Kaggle account and downloaded the data files. I added the data files to .gitignore except for zillow_data_dictionary.xlsx, which is a useful code book that explains the data."
   ]
  },
  {
   "cell_type": "markdown",
   "metadata": {},
   "source": [
    "Next steps\n",
    "---------\n",
    "My next task is to explore the data, figure out what to do about missing data, and split the data into training and test sets.\n",
    "\n",
    "Specifically, I plan to split the data into two groups\n",
    "randomly, where 2/3 of the data will be used for training and 1/3 will be used for testing. I am not sure if I want to set up a cross-validation experiment. Perhaps a 10-fold or 5 * 2 cross-validation."
   ]
  }
 ],
 "metadata": {
  "kernelspec": {
   "display_name": "Python [conda root]",
   "language": "python",
   "name": "conda-root-py"
  },
  "language_info": {
   "codemirror_mode": {
    "name": "ipython",
    "version": 3
   },
   "file_extension": ".py",
   "mimetype": "text/x-python",
   "name": "python",
   "nbconvert_exporter": "python",
   "pygments_lexer": "ipython3",
   "version": "3.6.2"
  }
 },
 "nbformat": 4,
 "nbformat_minor": 2
}
