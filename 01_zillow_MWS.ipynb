{
  "cells": [
    {
      "metadata": {
        "_uuid": "29a0e87d5fe7e00f9bfec060019c25beab67035e"
      },
      "cell_type": "markdown",
      "source": "This Python 3 environment comes with many helpful analytics libraries installed\nIt is defined by the kaggle/python docker image: https://github.com/kaggle/docker-python\nFor example, here's several helpful packages to load in "
    },
    {
      "metadata": {
        "trusted": true,
        "collapsed": true,
        "_uuid": "da163d263ba61685860530a25d26fa8282f04c42"
      },
      "cell_type": "code",
      "source": "import numpy as np # linear algebra\nimport pandas as pd # data processing, CSV file I/O (e.g. pd.read_csv)",
      "execution_count": 8,
      "outputs": []
    },
    {
      "metadata": {
        "_uuid": "1d3399023ba73a368703f69c8c68a789188cb6be"
      },
      "cell_type": "markdown",
      "source": "Input data files are available in the \"../input/\" directory.\nFor example, running this (by clicking run or pressing Shift+Enter) will list the files in the input directory"
    },
    {
      "metadata": {
        "trusted": true,
        "_uuid": "0a00a142240dcd5c4f8e67000fd974462427c8b3"
      },
      "cell_type": "code",
      "source": "from subprocess import check_output\nprint(check_output([\"ls\", \"../input\"]).decode(\"utf8\"))",
      "execution_count": 9,
      "outputs": [
        {
          "output_type": "stream",
          "text": "properties_2016.csv\nsample_submission.csv\ntrain_2016_v2.csv\nzillow_data_dictionary.xlsx\n\n",
          "name": "stdout"
        }
      ]
    },
    {
      "metadata": {
        "_cell_guid": "ac2f694b-60f6-4053-b919-93eb96f97e79",
        "_uuid": "464b8ff121e74a14770413ead7b3bc5e0cb7c4e7",
        "trusted": true
      },
      "cell_type": "markdown",
      "source": "Any results I write to the current directory are saved as output."
    },
    {
      "metadata": {
        "_uuid": "d3d7b5d3a7eebbb2acf1a63ba447555fc4564b92"
      },
      "cell_type": "markdown",
      "source": "  Importing Libraries or Packages that are needed throughout the Program "
    },
    {
      "metadata": {
        "collapsed": true,
        "trusted": true,
        "_uuid": "d605750d2ca0f24eb951546fac7e29ee8e7ccbef"
      },
      "cell_type": "code",
      "source": "  import xgboost as  xgb \n  import random \n  import datetime as dt \n  import gc",
      "execution_count": 10,
      "outputs": []
    },
    {
      "metadata": {
        "_uuid": "1818712cc96ba417f2e3b8d7a68d72bff94fffe9"
      },
      "cell_type": "markdown",
      "source": "# Load the Datasets\n\nWe need to load the datasets that will be needed to train our machine learning algorithms, handle our data and make predictions.\nNote:  that these datasets are the ones that are already provided once you enter the competition by accepting terms and conditions"
    },
    {
      "metadata": {
        "trusted": true,
        "_uuid": "1485bf3901e3dcf2f4f9990835e4753c5df216bf"
      },
      "cell_type": "code",
      "source": "     train = pd.read_csv('../input/train_2016_v2.csv' , parse_dates=[\"transactiondate\"]) \n     properties = pd.read_csv('../input/properties_2016.csv')   \n     test = pd.read_csv('../input/sample_submission.csv') \n     test= test.rename(columns={'ParcelId': 'parcelid'}) \n    #To make it easier for merging datasets on same column_id later",
      "execution_count": 11,
      "outputs": [
        {
          "output_type": "stream",
          "text": "/opt/conda/lib/python3.6/site-packages/IPython/core/interactiveshell.py:2717: DtypeWarning: Columns (22,32,34,49,55) have mixed types. Specify dtype option on import or set low_memory=False.\n  interactivity=interactivity, compiler=compiler, result=result)\n",
          "name": "stderr"
        }
      ]
    },
    {
      "metadata": {
        "_uuid": "cf7a436d379d1f63db49b2fd2a260f4ed09da745"
      },
      "cell_type": "markdown",
      "source": "# Analyse the Dimensions of our Datasets."
    },
    {
      "metadata": {
        "trusted": true,
        "_uuid": "6314bd84da81374a346b39a476f4adfbb45091f5"
      },
      "cell_type": "code",
      "source": "     print(\"Training Size:\" + str(train.shape))\n     print(\"Property Size:\" + str(properties.shape))\n     print(\"Sample Size:\" + str(test.shape))",
      "execution_count": 13,
      "outputs": [
        {
          "output_type": "stream",
          "text": "Training Size:(90275, 3)\nProperty Size:(2985217, 58)\nSample Size:(2985217, 7)\n",
          "name": "stdout"
        }
      ]
    },
    {
      "metadata": {
        "_uuid": "2ac5907ee6038164ee75c4c0fb4e73901c4d1aca"
      },
      "cell_type": "markdown",
      "source": "# Type Converting the DataSet \n\nThe processing of some of the algorithms can be made quick if data representation is made in int/float32 instead of int/float64.\n\nTherefore, in order to make sure that all of our columns types are in\nfloat32, I am implementing the following lines of code:"
    },
    {
      "metadata": {
        "trusted": true,
        "collapsed": true,
        "_uuid": "fe6c9bb7d406209bbbef76ec3133bf810a402a58"
      },
      "cell_type": "code",
      "source": " for c, dtype in zip(properties.columns, properties.dtypes):\n     if dtype == np.float64:        \n         properties[c] = properties[c].astype(np.float32)\n     if dtype == np.int64:\n         properties[c] = properties[c].astype(np.int32)",
      "execution_count": 14,
      "outputs": []
    },
    {
      "metadata": {
        "trusted": true,
        "collapsed": true,
        "_uuid": "867d374a22eb507331ac498c9828a0442a679268"
      },
      "cell_type": "code",
      "source": " for column in test.columns:\n     if test[column].dtype == int:\n         test[column] = test[column].astype(np.int32)\n     if test[column].dtype == float:\n         test[column] = test[column].astype(np.float32)",
      "execution_count": 15,
      "outputs": []
    },
    {
      "metadata": {
        "_uuid": "72a936957dd5503ff2d06eb7e11c33718b134180"
      },
      "cell_type": "markdown",
      "source": "### living area proportions "
    },
    {
      "metadata": {
        "trusted": true,
        "collapsed": true,
        "_uuid": "12c61bf65333f096478a898a2e6909557764ead2"
      },
      "cell_type": "code",
      "source": "properties['living_area_prop'] = properties['calculatedfinishedsquarefeet'] / properties['lotsizesquarefeet']",
      "execution_count": 16,
      "outputs": []
    },
    {
      "metadata": {
        "_uuid": "6d486bd85281dfb9cd734caa675aa52a8d74d366"
      },
      "cell_type": "markdown",
      "source": "### tax value ratio"
    },
    {
      "metadata": {
        "trusted": true,
        "collapsed": true,
        "_uuid": "2ad5ffafebddce3ed1255168ec76c8605057728c"
      },
      "cell_type": "code",
      "source": "properties['value_ratio'] = properties['taxvaluedollarcnt'] / properties['taxamount']",
      "execution_count": 17,
      "outputs": []
    },
    {
      "metadata": {
        "_uuid": "4ddb1153c297509e7980631219ebd46e131e02be"
      },
      "cell_type": "markdown",
      "source": "### tax value proportions"
    },
    {
      "metadata": {
        "trusted": true,
        "collapsed": true,
        "_uuid": "568ca7160adc57c6d5c6b32f921f498e17e0cdc3"
      },
      "cell_type": "code",
      "source": "properties['value_prop'] = properties['structuretaxvaluedollarcnt'] / properties['landtaxvaluedollarcnt']",
      "execution_count": 18,
      "outputs": []
    },
    {
      "metadata": {
        "_uuid": "e8170a0356ff20162f676a718217613bd94555aa"
      },
      "cell_type": "markdown",
      "source": "### Merging the Datasets\n\nWe are merging the properties dataset with training and testing dataset for model building and testing prediction #"
    },
    {
      "metadata": {
        "trusted": true,
        "collapsed": true,
        "_uuid": "d206a569a7b3c6e31fba74f3ee07f46a68b2ae9d"
      },
      "cell_type": "code",
      "source": "df_train = train.merge(properties, how='left', on='parcelid') \ndf_test = test.merge(properties, how='left', on='parcelid')",
      "execution_count": 19,
      "outputs": []
    },
    {
      "metadata": {
        "_uuid": "c66e656ae6dfc469ec0c3fe48bc1d2de9a84e1b8"
      },
      "cell_type": "markdown",
      "source": "### Remove previous variables to keep some memory"
    },
    {
      "metadata": {
        "trusted": true,
        "collapsed": true,
        "_uuid": "b8ffc435be693e19905431fe4d70f4c501f87c55"
      },
      "cell_type": "code",
      "source": "del properties, train\ngc.collect();",
      "execution_count": 20,
      "outputs": []
    },
    {
      "metadata": {
        "trusted": true,
        "_uuid": "d76a85d3f510765ebd1a2771889be65c824cb0d1"
      },
      "cell_type": "code",
      "source": "print('Memory usage reduction...')\ndf_train[['latitude', 'longitude']] /= 1e6\ndf_test[['latitude', 'longitude']] /= 1e6",
      "execution_count": 21,
      "outputs": [
        {
          "output_type": "stream",
          "text": "Memory usage reduction...\n",
          "name": "stdout"
        }
      ]
    },
    {
      "metadata": {
        "trusted": true,
        "collapsed": true,
        "_uuid": "063ff5f96294e5f70ffd746c31999f4cf20ff6d5"
      },
      "cell_type": "code",
      "source": "df_train['censustractandblock'] /= 1e12\ndf_test['censustractandblock'] /= 1e12",
      "execution_count": 22,
      "outputs": []
    },
    {
      "metadata": {
        "_uuid": "dcf7d78888ae623b54c2b8a67a058c75e6c78951"
      },
      "cell_type": "markdown",
      "source": "# Label Encoding For Machine Learning &amp; Filling Missing Values \n\nWe are now label encoding our datasets. All of the machine learning algorithms employed in scikit learn assume that the data being fed to them is in numerical form. LabelEncoding ensures that all of our categorical variables are in numerical representation. Also note that we are filling the missing values in our dataset with a zero before label encoding them. This is to ensure that label encoder function does not experience any problems while carrying out its operation #"
    },
    {
      "metadata": {
        "trusted": true,
        "collapsed": true,
        "_uuid": "99e0fdf0393c36e183cbf4b770b1b32277aa4bf9"
      },
      "cell_type": "code",
      "source": "from sklearn.preprocessing import LabelEncoder  \n\nlbl = LabelEncoder()\nfor c in df_train.columns:\n    df_train[c]=df_train[c].fillna(0)\n    if df_train[c].dtype == 'object':\n        lbl.fit(list(df_train[c].values))\n        df_train[c] = lbl.transform(list(df_train[c].values))\n\nfor c in df_test.columns:\n    df_test[c]=df_test[c].fillna(0)\n    if df_test[c].dtype == 'object':\n        lbl.fit(list(df_test[c].values))\n        df_test[c] = lbl.transform(list(df_test[c].values))     ",
      "execution_count": 23,
      "outputs": []
    },
    {
      "metadata": {
        "_uuid": "b407761b48ea9fd7e011c0bf8b1c6a34b6c6760f"
      },
      "cell_type": "markdown",
      "source": "### Rearranging the DataSets\n\nWe will now drop the features that serve no useful purpose. We will also split our data and divide it into the representation to make it clear which features are to be treated as determinants in predicting the outcome for our target feature. Make sure to include the same features in the test set as were included in the training set"
    },
    {
      "metadata": {
        "trusted": true,
        "collapsed": true,
        "_uuid": "d23a1827f7745e7879b95f745ed19769dfd6e2a5"
      },
      "cell_type": "code",
      "source": "x_train = df_train.drop(['parcelid', 'logerror', 'transactiondate', 'propertyzoningdesc', \n                         'propertycountylandusecode', ], axis=1)\n\nx_test = df_test.drop(['parcelid', 'propertyzoningdesc',\n                       'propertycountylandusecode', '201610', '201611', \n                       '201612', '201710', '201711', '201712'], axis = 1) \n\nx_train = x_train.values\ny_train = df_train['logerror'].values",
      "execution_count": 24,
      "outputs": []
    },
    {
      "metadata": {
        "_uuid": "20b963a00961c553c9a1eb027f491c47ff146a62"
      },
      "cell_type": "markdown",
      "source": "### Cross Validation \n\nWe are dividing our datasets into the training and validation sets so that we could monitor and the test the progress of our machine learning algorithm. This would let us know when our model might be over or under fitting on the dataset that we have employed. "
    },
    {
      "metadata": {
        "trusted": true,
        "collapsed": true,
        "_uuid": "7e3f431dad4846a3ca02596e5f99c0501f1baca2"
      },
      "cell_type": "code",
      "source": "from sklearn.model_selection import train_test_split\n\nX = x_train\ny = y_train \n\nXtrain, Xvalid, ytrain, yvalid = train_test_split(X, y, test_size=0.2, random_state=42)",
      "execution_count": 25,
      "outputs": []
    },
    {
      "metadata": {
        "_uuid": "af4b15b39c4f8b805bfd8f6a00a440bc05839162"
      },
      "cell_type": "markdown",
      "source": "# Implement the Xgboost\n\nWe can now select the parameters for Xgboost and monitor the progress of results on our validation set. The explanation of the xgboost parameters and what they do can be found on the following link http://xgboost.readthedocs.io/en/latest/parameter.html "
    },
    {
      "metadata": {
        "trusted": true,
        "collapsed": true,
        "_uuid": "8a2e9220fe0d13d7d1f2d72798d2ba6e9621b23e"
      },
      "cell_type": "code",
      "source": "dtrain = xgb.DMatrix(Xtrain, label=ytrain)\ndvalid = xgb.DMatrix(Xvalid, label=yvalid)\ndtest = xgb.DMatrix(x_test.values)",
      "execution_count": 26,
      "outputs": []
    },
    {
      "metadata": {
        "_uuid": "c8b937e92503d0aed1a1a6b6799296ef24c5953b"
      },
      "cell_type": "markdown",
      "source": "# Try different parameters! "
    },
    {
      "metadata": {
        "trusted": true,
        "_uuid": "db83c4989ee4ca43e8ff1921d3afb92b23a5aa2b"
      },
      "cell_type": "code",
      "source": "xgb_params = {'min_child_weight': 5, 'eta': 0.035, 'colsample_bytree': 0.5, 'max_depth': 4,\n            'subsample': 0.85, 'lambda': 0.8, 'nthread': -1, 'booster' : 'gbtree', 'silent': 1, 'gamma' : 0,\n            'eval_metric': 'mae', 'objective': 'reg:linear' }           \n\nwatchlist = [(dtrain, 'train'), (dvalid, 'valid')]\n\nmodel_xgb = xgb.train(xgb_params, dtrain, 1000, watchlist, early_stopping_rounds=100,\n                  maximize=False, verbose_eval=10)",
      "execution_count": 27,
      "outputs": [
        {
          "output_type": "stream",
          "text": "[0]\ttrain-mae:0.479871\tvalid-mae:0.480932\nMultiple eval metrics have been passed: 'valid-mae' will be used for early stopping.\n\nWill train until valid-mae hasn't improved in 100 rounds.\n[10]\ttrain-mae:0.342058\tvalid-mae:0.343132\n[20]\ttrain-mae:0.247464\tvalid-mae:0.248492\n[30]\ttrain-mae:0.183227\tvalid-mae:0.184171\n[40]\ttrain-mae:0.140217\tvalid-mae:0.141049\n[50]\ttrain-mae:0.11195\tvalid-mae:0.112601\n[60]\ttrain-mae:0.093955\tvalid-mae:0.094526\n[70]\ttrain-mae:0.082911\tvalid-mae:0.083401\n[80]\ttrain-mae:0.076417\tvalid-mae:0.07694\n[90]\ttrain-mae:0.072703\tvalid-mae:0.073257\n[100]\ttrain-mae:0.070578\tvalid-mae:0.071127\n[110]\ttrain-mae:0.069367\tvalid-mae:0.069914\n[120]\ttrain-mae:0.068667\tvalid-mae:0.069235\n[130]\ttrain-mae:0.068245\tvalid-mae:0.068853\n[140]\ttrain-mae:0.067989\tvalid-mae:0.068614\n[150]\ttrain-mae:0.067829\tvalid-mae:0.068498\n[160]\ttrain-mae:0.067721\tvalid-mae:0.068423\n[170]\ttrain-mae:0.06765\tvalid-mae:0.068381\n[180]\ttrain-mae:0.067574\tvalid-mae:0.068344\n[190]\ttrain-mae:0.067524\tvalid-mae:0.06832\n[200]\ttrain-mae:0.06749\tvalid-mae:0.068319\n[210]\ttrain-mae:0.067478\tvalid-mae:0.068338\n[220]\ttrain-mae:0.067448\tvalid-mae:0.068335\n[230]\ttrain-mae:0.067422\tvalid-mae:0.068341\n[240]\ttrain-mae:0.0674\tvalid-mae:0.068354\n[250]\ttrain-mae:0.067373\tvalid-mae:0.06837\n[260]\ttrain-mae:0.067354\tvalid-mae:0.068379\n[270]\ttrain-mae:0.067335\tvalid-mae:0.068397\n[280]\ttrain-mae:0.067316\tvalid-mae:0.068407\n[290]\ttrain-mae:0.067297\tvalid-mae:0.068423\nStopping. Best iteration:\n[198]\ttrain-mae:0.067497\tvalid-mae:0.068315\n\n",
          "name": "stdout"
        }
      ]
    },
    {
      "metadata": {
        "_uuid": "ff1383c5ed9a7b198647a80cf5ca953967754585"
      },
      "cell_type": "markdown",
      "source": "# Predicting the results\nLet us now predict the target variable for our test dataset. All we have to do now is just fit the already trained model on the test set that we had made merging the sample file with properties dataset #"
    },
    {
      "metadata": {
        "trusted": true,
        "collapsed": true,
        "_uuid": "76483339588983e4a86186efc9a04939b1fd4a7b"
      },
      "cell_type": "code",
      "source": "Predicted_test_xgb = model_xgb.predict(dtest)",
      "execution_count": 28,
      "outputs": []
    },
    {
      "metadata": {
        "_uuid": "e220048f299fc6f2808b86f9c1efb19e1f17a01b"
      },
      "cell_type": "markdown",
      "source": "# Submitting the Results \n\nOnce again load the file and start submitting the results in each column"
    },
    {
      "metadata": {
        "trusted": true,
        "collapsed": true,
        "_uuid": "fbe9f2c585bda2ae8e9ad1c0b90ad1f5791dd39e"
      },
      "cell_type": "code",
      "source": "sample_file = pd.read_csv('../input/sample_submission.csv') \nfor c in sample_file.columns[sample_file.columns != 'ParcelId']:\n    sample_file[c] = Predicted_test_xgb",
      "execution_count": null,
      "outputs": []
    },
    {
      "metadata": {
        "collapsed": true,
        "trusted": true,
        "_uuid": "1c3ebc4926c9ea9bf7ce47f0002cfc466f5736aa"
      },
      "cell_type": "code",
      "source": "print('Preparing the csv file ...')\nsample_file.to_csv('xgb_predicted_results.csv', index=False, float_format='%.4f')\nprint(\"Finished writing the file\")",
      "execution_count": null,
      "outputs": []
    }
  ],
  "metadata": {
    "kernelspec": {
      "display_name": "Python 3",
      "language": "python",
      "name": "python3"
    },
    "language_info": {
      "name": "python",
      "version": "3.6.1",
      "mimetype": "text/x-python",
      "codemirror_mode": {
        "name": "ipython",
        "version": 3
      },
      "pygments_lexer": "ipython3",
      "nbconvert_exporter": "python",
      "file_extension": ".py"
    }
  },
  "nbformat": 4,
  "nbformat_minor": 1
}