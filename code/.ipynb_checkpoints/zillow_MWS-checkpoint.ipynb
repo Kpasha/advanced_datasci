{
 "cells": [
  {
   "cell_type": "markdown",
   "metadata": {},
   "source": [
    "# Zillow prize data analysis report"
   ]
  },
  {
   "cell_type": "code",
   "execution_count": null,
   "metadata": {
    "scrolled": true
   },
   "outputs": [],
   "source": [
    "from datetime import datetime\n",
    "d = datetime.now().date()\n",
    "t = datetime.now().strftime('%H:%M:%S')\n",
    "print(\"This report was last updated on\", d, \"at\", t)"
   ]
  },
  {
   "cell_type": "markdown",
   "metadata": {},
   "source": [
    "## Introduction"
   ]
  },
  {
   "cell_type": "markdown",
   "metadata": {},
   "source": [
    "The [Zillow Prize](https://www.zillow.com/promo/Zillow-prize/) is a [Kaggle competition](https://www.kaggle.com/c/zillow-prize-1) that aims to inspire data scientists around the world to improve the accuracy of the Zillow \"Zestimate\" statistical and machine learning models. \n",
    "\n",
    "My goal is to compete for the Zillow prize and write up my results."
   ]
  },
  {
   "cell_type": "markdown",
   "metadata": {},
   "source": [
    "## Methods"
   ]
  },
  {
   "cell_type": "markdown",
   "metadata": {},
   "source": [
    "### Data"
   ]
  },
  {
   "cell_type": "markdown",
   "metadata": {},
   "source": [
    "The data were obtained from [Kaggle website](https://www.kaggle.com/c/zillow-prize-1/data) and consist of the following files:\n",
    "- `properties_2016.csv.zip`\n",
    "- `properties_2017.csv.zip`\n",
    "- `sample_submission.csv`\n",
    "- `train_2016_v2.csv.zip`\n",
    "- `train_2017.csv.zip`\n",
    "- `zillow_data_dictionary.xlsx` \n",
    "The `zillow_data_dictionary.xlsx` is a code book that explains the data.\n",
    "This data will be made available on [figshare](https://figshare.com/) to provide an additional source if the [Kaggle site data](https://www.kaggle.com/c/zillow-prize-1/data) become unavailable."
   ]
  },
  {
   "cell_type": "markdown",
   "metadata": {},
   "source": [
    "### Exploratory Data Analysis"
   ]
  },
  {
   "cell_type": "markdown",
   "metadata": {},
   "source": [
    "Data analysis was done in Jupyter Notebook (Pérez and Granger 2007)<cite data-cite=\"5251998/SH25XT8L\"></cite> Integrated Development Environment using the Python language (Pérez, Granger, and Hunter 2011)<cite data-cite=\"5251998/FGTD82L2\"></cite> and a number of software packages:\n",
    "\n",
    "- NumPy (van der Walt, Colbert, and Varoquaux 2011)<cite data-cite=\"5251998/3SWILWGR\"></cite>\n",
    "\n",
    "- pandas (McKinney 2010)<cite data-cite=\"5251998/K3NZPGU9\"></cite>\n",
    "\n",
    "- scikit-learn (Pedregosa et al. 2011)<cite data-cite=\"5251998/SBYLEUVD\"></cite>\n",
    "\n"
   ]
  },
  {
   "cell_type": "markdown",
   "metadata": {},
   "source": [
    "### Visualization"
   ]
  },
  {
   "cell_type": "markdown",
   "metadata": {},
   "source": [
    "The following packages were used to visualize the data:\n",
    "\n",
    "- Matplotlib (Hunter 2007)<cite data-cite=\"5251998/WP5LZ6AZ\"></cite>\n",
    "\n",
    "- Seaborn (Waskom et al. 2014)<cite data-cite=\"5251998/NSFX6VMN\"></cite>\n",
    "\n",
    "- r-ggplot2\n",
    "\n",
    "- r-cowplot\n",
    "\n",
    "The use of `R` code and packages in a `Python` environment is possible through the use of the `Rpy2` package."
   ]
  },
  {
   "cell_type": "markdown",
   "metadata": {},
   "source": [
    "### Prediction"
   ]
  },
  {
   "cell_type": "markdown",
   "metadata": {},
   "source": [
    "Machine learning prediction was done using the following packages:\n",
    "\n",
    "- scikit-learn (Pedregosa et al. 2011)<cite data-cite=\"5251998/SBYLEUVD\"></cite>\n",
    "\n",
    "- r-caret "
   ]
  },
  {
   "cell_type": "markdown",
   "metadata": {},
   "source": [
    "### Reproducibility"
   ]
  },
  {
   "cell_type": "markdown",
   "metadata": {},
   "source": [
    "Reproducibility is extremely important in scientific research yet many examples of problematic studies exist in the literature (Couzin-Frankel 2010)<cite data-cite=\"5251998/UXR4ZTUS\"></cite>.\n",
    "\n",
    "The names and versions of each package used herein are listed in the accompanying `env.yml` file in the `config` folder.\n",
    "The computational environment used to analyze the data can be recreated using this `env.yml` file and the [`conda` package and environment manager](https://conda.io/docs/using/envs.html) available as part of the [Anaconda distribution of Python](https://www.anaconda.com/download/).\n",
    "\n",
    "Additionally, details on how to setup a Docker image capable of running the analysis is included in the `README.md` file in the `config` folder.\n",
    "\n",
    "The code in the form of a jupyter notebook (`01_zillow_MWS.ipynb`) or Python script (`01_zillow_MWS.py`), can also be run on the Kaggle website (this requires logging in with a username and password).\n",
    "\n",
    "More information on the details of how this project was created and the computational environment was configured can be found in the accompanying `README.md` file."
   ]
  },
  {
   "cell_type": "markdown",
   "metadata": {
    "_uuid": "29a0e87d5fe7e00f9bfec060019c25beab67035e"
   },
   "source": [
    "This Python 3 environment comes with many helpful analytics libraries installed\n",
    "It is defined by the kaggle/python docker image: https://github.com/kaggle/docker-python (a modified version of this docker image will be made available as part of my project to ensure reproducibility).\n",
    "For example, here's several helpful packages to load in "
   ]
  },
  {
   "cell_type": "markdown",
   "metadata": {},
   "source": [
    "## Results"
   ]
  },
  {
   "cell_type": "markdown",
   "metadata": {},
   "source": [
    "### Import Libraries and Data for Exploratory Data Analysis"
   ]
  },
  {
   "cell_type": "code",
   "execution_count": null,
   "metadata": {
    "_uuid": "da163d263ba61685860530a25d26fa8282f04c42"
   },
   "outputs": [],
   "source": [
    "import numpy as np # linear algebra\n",
    "import pandas as pd # data processing, CSV file I/O (e.g. pd.read_csv)\n",
    "import matplotlib.pyplot as plt # data visualization\n",
    "import seaborn as sns\n",
    "\n",
    "%matplotlib inline\n",
    "### Seaborn style\n",
    "sns.set_style(\"whitegrid\")"
   ]
  },
  {
   "cell_type": "markdown",
   "metadata": {
    "_uuid": "1d3399023ba73a368703f69c8c68a789188cb6be"
   },
   "source": [
    "Input data files are available in the `../data/` directory."
   ]
  },
  {
   "cell_type": "markdown",
   "metadata": {
    "_cell_guid": "ac2f694b-60f6-4053-b919-93eb96f97e79",
    "_uuid": "464b8ff121e74a14770413ead7b3bc5e0cb7c4e7"
   },
   "source": [
    "Any results I write to the current directory are saved as output."
   ]
  },
  {
   "cell_type": "code",
   "execution_count": null,
   "metadata": {},
   "outputs": [],
   "source": [
    "## Dictionary of feature dtypes\n",
    "ints = ['parcelid']\n",
    "\n",
    "floats = ['basementsqft', 'bathroomcnt', 'bedroomcnt', 'calculatedbathnbr', 'finishedfloor1squarefeet', \n",
    "          'calculatedfinishedsquarefeet', 'finishedsquarefeet12', 'finishedsquarefeet13',\n",
    "          'finishedsquarefeet15', 'finishedsquarefeet50', 'finishedsquarefeet6', 'fireplacecnt',\n",
    "          'fullbathcnt', 'garagecarcnt', 'garagetotalsqft', 'latitude', 'longitude',\n",
    "          'lotsizesquarefeet', 'poolcnt', 'poolsizesum', 'roomcnt', 'threequarterbathnbr', 'unitcnt',\n",
    "          'yardbuildingsqft17', 'yardbuildingsqft26', 'yearbuilt', 'numberofstories',\n",
    "          'structuretaxvaluedollarcnt', 'taxvaluedollarcnt', 'assessmentyear',\n",
    "          'landtaxvaluedollarcnt', 'taxamount', 'taxdelinquencyyear']\n",
    "\n",
    "objects = ['airconditioningtypeid', 'architecturalstyletypeid', 'buildingclasstypeid',\n",
    "           'buildingqualitytypeid', 'decktypeid', 'fips', 'hashottuborspa', 'heatingorsystemtypeid',\n",
    "           'pooltypeid10', 'pooltypeid2', 'pooltypeid7', 'propertycountylandusecode',\n",
    "           'propertylandusetypeid', 'propertyzoningdesc', 'rawcensustractandblock', 'regionidcity',\n",
    "           'regionidcounty', 'regionidneighborhood', 'regionidzip', 'storytypeid',\n",
    "           'typeconstructiontypeid', 'fireplaceflag', 'taxdelinquencyflag', 'censustractandblock']\n",
    "\n",
    "feature_dtypes = {col: col_type for type_list, col_type in zip([ints, floats, objects],\n",
    "                                                               ['int64', 'float64', 'object']) \n",
    "                                  for col in type_list}"
   ]
  },
  {
   "cell_type": "code",
   "execution_count": null,
   "metadata": {},
   "outputs": [],
   "source": [
    "### Let's import our data\n",
    "data = pd.read_csv('../data/properties_2016.csv' , dtype = feature_dtypes)\n"
   ]
  },
  {
   "cell_type": "code",
   "execution_count": null,
   "metadata": {},
   "outputs": [],
   "source": [
    "data.columns"
   ]
  },
  {
   "cell_type": "code",
   "execution_count": null,
   "metadata": {},
   "outputs": [],
   "source": [
    "len(data.columns)"
   ]
  },
  {
   "cell_type": "code",
   "execution_count": null,
   "metadata": {},
   "outputs": [],
   "source": [
    "continuous = ['basementsqft', 'finishedfloor1squarefeet', 'calculatedfinishedsquarefeet', \n",
    "              'finishedsquarefeet12', 'finishedsquarefeet13', 'finishedsquarefeet15',\n",
    "              'finishedsquarefeet50', 'finishedsquarefeet6', 'garagetotalsqft', 'latitude',\n",
    "              'longitude', 'lotsizesquarefeet', 'poolsizesum',  'yardbuildingsqft17',\n",
    "              'yardbuildingsqft26', 'yearbuilt', 'structuretaxvaluedollarcnt', 'taxvaluedollarcnt',\n",
    "              'landtaxvaluedollarcnt', 'taxamount']\n",
    "\n",
    "discrete = ['bathroomcnt', 'bedroomcnt', 'calculatedbathnbr', 'fireplacecnt', 'fullbathcnt',\n",
    "            'garagecarcnt', 'poolcnt', 'roomcnt', 'threequarterbathnbr', 'unitcnt',\n",
    "            'numberofstories', 'assessmentyear', 'taxdelinquencyyear']"
   ]
  },
  {
   "cell_type": "code",
   "execution_count": null,
   "metadata": {},
   "outputs": [],
   "source": [
    "len(continuous)"
   ]
  },
  {
   "cell_type": "code",
   "execution_count": null,
   "metadata": {},
   "outputs": [],
   "source": [
    "len(discrete)"
   ]
  },
  {
   "cell_type": "markdown",
   "metadata": {},
   "source": [
    "### Exploratory Data Analysis"
   ]
  },
  {
   "cell_type": "code",
   "execution_count": null,
   "metadata": {},
   "outputs": [],
   "source": [
    "### Reading train file\n",
    "errors = pd.read_csv('../data/train_2016_v2.csv', parse_dates=['transactiondate'])\n"
   ]
  },
  {
   "cell_type": "markdown",
   "metadata": {},
   "source": [
    "### Prediction"
   ]
  },
  {
   "cell_type": "markdown",
   "metadata": {},
   "source": [
    "In Progress"
   ]
  },
  {
   "cell_type": "markdown",
   "metadata": {},
   "source": [
    "## Supplemental figures"
   ]
  },
  {
   "cell_type": "markdown",
   "metadata": {},
   "source": [
    "In Progress"
   ]
  },
  {
   "cell_type": "code",
   "execution_count": null,
   "metadata": {},
   "outputs": [],
   "source": [
    "train_df = pd.read_csv(\"../data/train_2016_v2.csv\", parse_dates=[\"transactiondate\"])\n",
    "train_df.shape"
   ]
  },
  {
   "cell_type": "code",
   "execution_count": null,
   "metadata": {},
   "outputs": [],
   "source": [
    "train_y = train_df['logerror'].values\n",
    "cat_cols = [\"hashottuborspa\", \"propertycountylandusecode\", \"propertyzoningdesc\", \"fireplaceflag\", \"taxdelinquencyflag\"]\n",
    "\n",
    "from sklearn import ensemble"
   ]
  },
  {
   "cell_type": "markdown",
   "metadata": {},
   "source": [
    "Distribution of Target Variable:"
   ]
  },
  {
   "cell_type": "code",
   "execution_count": null,
   "metadata": {},
   "outputs": [],
   "source": [
    "(train_df['parcelid'].value_counts().reset_index())['parcelid'].value_counts()"
   ]
  },
  {
   "cell_type": "code",
   "execution_count": null,
   "metadata": {
    "scrolled": true
   },
   "outputs": [],
   "source": [
    "prop_df = pd.read_csv(\"../data/properties_2016.csv\")\n",
    "prop_df.shape"
   ]
  },
  {
   "cell_type": "code",
   "execution_count": null,
   "metadata": {},
   "outputs": [],
   "source": [
    "train_y = train_df['logerror'].values\n",
    "cat_cols = [\"hashottuborspa\", \"propertycountylandusecode\", \"propertyzoningdesc\", \"fireplaceflag\", \"taxdelinquencyflag\"]\n",
    "\n",
    "from sklearn import ensemble"
   ]
  },
  {
   "cell_type": "code",
   "execution_count": null,
   "metadata": {},
   "outputs": [],
   "source": [
    "missing_df = prop_df.isnull().sum/prop_df.sum\n",
    "missing_df.columns = ['column_name', 'missing_count']\n",
    "missing_df = missing_df[missing_df['missing_count']>0]\n",
    "missing_df = missing_df.sort_values(by='missing_count')\n",
    "\n",
    "ind = np.arange(missing_df.shape[0])\n",
    "width = 0.9\n",
    "fig, ax = plt.subplots(figsize=(12,18))\n",
    "rects = ax.barh(ind, missing_df.missing_count.values, color='blue')\n",
    "ax.set_yticks(ind)\n",
    "ax.set_yticklabels(missing_df.column_name.values, rotation='horizontal')\n",
    "ax.set_xlabel(\"Count of missing values\")\n",
    "ax.set_title(\"Number of missing values in each column\")\n",
    "plt.show()"
   ]
  },
  {
   "cell_type": "code",
   "execution_count": null,
   "metadata": {},
   "outputs": [],
   "source": [
    "train_df = pd.merge(train_df, prop_df, on='parcelid', how='left')\n",
    "train_df.head()"
   ]
  },
  {
   "cell_type": "code",
   "execution_count": null,
   "metadata": {},
   "outputs": [],
   "source": [
    "pd.options.display.max_rows = 65\n",
    "\n",
    "dtype_df = train_df.dtypes.reset_index()\n",
    "dtype_df.columns = [\"Count\", \"Column Type\"]\n",
    "dtype_df.groupby(\"Column Type\").aggregate('count').reset_index()"
   ]
  },
  {
   "cell_type": "code",
   "execution_count": null,
   "metadata": {},
   "outputs": [],
   "source": [
    "dtype_df.groupby(\"Column Type\").aggregate('count').reset_index()"
   ]
  },
  {
   "cell_type": "code",
   "execution_count": null,
   "metadata": {},
   "outputs": [],
   "source": [
    "missing_df = train_df.isnull().sum(axis=0).reset_index()\n",
    "missing_df.columns = ['column_name', 'missing_count']\n",
    "missing_df['missing_ratio'] = missing_df['missing_count'] / train_df.shape[0]\n",
    "missing_df.ix[missing_df['missing_ratio']>0.999]"
   ]
  },
  {
   "cell_type": "code",
   "execution_count": null,
   "metadata": {},
   "outputs": [],
   "source": [
    "import xgboost as xgb\n",
    "xgb_params = {\n",
    "    'eta': 0.05,\n",
    "    'max_depth': 8,\n",
    "    'subsample': 0.7,\n",
    "    'colsample_bytree': 0.7,\n",
    "    'objective': 'reg:linear',\n",
    "    'silent': 1,\n",
    "    'seed' : 0\n",
    "}\n",
    "dtrain = xgb.DMatrix(train_df, train_y, feature_names=train_df.columns.values)\n",
    "model = xgb.train(dict(xgb_params, silent=0), dtrain, num_boost_round=50)"
   ]
  },
  {
   "cell_type": "code",
   "execution_count": null,
   "metadata": {},
   "outputs": [],
   "source": [
    "# plot the important features #\n",
    "fig, ax = plt.subplots(figsize=(12,18))\n",
    "xgb.plot_importance(model, height=0.8, ax=ax)\n",
    "plt.show()"
   ]
  },
  {
   "cell_type": "code",
   "execution_count": null,
   "metadata": {
    "_uuid": "6314bd84da81374a346b39a476f4adfbb45091f5"
   },
   "outputs": [],
   "source": [
    "     print(\"Training Size:\" + str(train_df.shape))\n",
    "     print(\"Property Size:\" + str(prop_df.shape))"
   ]
  },
  {
   "cell_type": "code",
   "execution_count": null,
   "metadata": {},
   "outputs": [],
   "source": [
    "### ... check for NaNs\n",
    "nan = prop_df.isnull().sum()"
   ]
  },
  {
   "cell_type": "code",
   "execution_count": null,
   "metadata": {},
   "outputs": [],
   "source": [
    "nan_prop = nan/len(df)"
   ]
  },
  {
   "cell_type": "code",
   "execution_count": null,
   "metadata": {},
   "outputs": [],
   "source": [
    "### Plotting NaN counts\n",
    "nan_sorted = nan.sort_values(ascending=False).to_frame().reset_index()\n",
    "nan_sorted.columns = ['Column', 'Number of NaNs']"
   ]
  },
  {
   "cell_type": "code",
   "execution_count": null,
   "metadata": {},
   "outputs": [],
   "source": [
    "import seaborn as sns"
   ]
  },
  {
   "cell_type": "code",
   "execution_count": null,
   "metadata": {},
   "outputs": [],
   "source": [
    "fig, ax = plt.subplots(figsize=(12, 25))\n",
    "sns.barplot(x=\"Number of NaNs\", y=\"Column\", data=nan_sorted, color='Blue', ax=ax)\n",
    "ax.set(xlabel=\"Number of NaNs\", ylabel=\"\", title=\"Total Number of NaNs in each column\")\n",
    "plt.show()"
   ]
  },
  {
   "cell_type": "markdown",
   "metadata": {},
   "source": [
    "Feature Missing Values and  Importance"
   ]
  },
  {
   "cell_type": "markdown",
   "metadata": {},
   "source": [
    "## Conclusions"
   ]
  },
  {
   "cell_type": "markdown",
   "metadata": {},
   "source": [
    "In Progress"
   ]
  },
  {
   "cell_type": "markdown",
   "metadata": {},
   "source": [
    "## Bibliography"
   ]
  },
  {
   "cell_type": "markdown",
   "metadata": {},
   "source": [
    "Couzin-Frankel, J. 2010. “Cancer Research. As Questions Grow, Duke Halts Trials, Launches Investigation.” Science 329 (5992): 614–15. \n",
    "\n",
    "Hunter, J. D. 2007. “Matplotlib: A 2D Graphics Environment.” Computing In Science & Engineering 9 (3): 90–95.\n",
    "\n",
    "McKinney, W. 2010. “Data Structures for Statistical Computing in Python.” In Proceedings of the 9th Python in Science Conference, edited by S. J. van der Walt and K. J. Millman. Austin, Texas.\n",
    "\n",
    "Pedregosa, Fabian, Gaël Varoquaux, Alexandre Gramfort, Vincent Michel, Bertrand Thirion, Olivier Grisel, Mathieu Blondel, et al. 2011. “Scikit-Learn: Machine Learning in Python.” Journal of Machine Learning Research 12 (Oct): 2825–30.\n",
    "\n",
    "Pérez, F., and B. E. Granger. 2007. “IPython: A System for Interactive Scientific Computing.” Computing in Science & Engineering 9 (3): 21–29.\n",
    "\n",
    "Pérez, F., B. E. Granger, and J. D. Hunter. 2011. “Python: An Ecosystem for Scientific Computing.” Computing in Science & Engineering 13 (2): 13–21.\n",
    "\n",
    "Van der Walt, S., S. C. Colbert, and G. Varoquaux. 2011. “The NumPy Array: A Structure for Efficient Numerical Computation.” Computing in Science & Engineering 13 (2): 22–30.\n",
    "\n",
    "Waskom, M, O Botvinnik, P Hobson, J Warmenhoven, JB Cole, Y Halchenko, J Vanderplas, et al. 2014. Seaborn: Statistical Data Visualization. Stanford, California."
   ]
  },
  {
   "cell_type": "markdown",
   "metadata": {},
   "source": [
    "<div class=\"cite2c-biblio\"></div>"
   ]
  }
 ],
 "metadata": {
  "cite2c": {
   "citations": {
    "5251998/3SWILWGR": {
     "DOI": "10.1109/MCSE.2011.37",
     "author": [
      {
       "family": "van der Walt",
       "given": "S."
      },
      {
       "family": "Colbert",
       "given": "S. C."
      },
      {
       "family": "Varoquaux",
       "given": "G."
      }
     ],
     "container-title": "Computing in Science & Engineering",
     "id": "5251998/3SWILWGR",
     "issue": "2",
     "issued": {
      "month": "3",
      "month_end": "4",
      "year": "2011",
      "year_end": "2011"
     },
     "page": "22–30",
     "page-first": "22",
     "title": "The NumPy Array: A Structure for Efficient Numerical Computation",
     "type": "article-journal",
     "volume": "13"
    },
    "5251998/FGTD82L2": {
     "URL": "http://ieeexplore.ieee.org/xpls/abs_all.jsp?arnumber=5582063",
     "author": [
      {
       "family": "Pérez",
       "given": "F."
      },
      {
       "family": "Granger",
       "given": "B. E."
      },
      {
       "family": "Hunter",
       "given": "J. D."
      }
     ],
     "container-title": "Computing in Science & Engineering",
     "id": "5251998/FGTD82L2",
     "issue": "2",
     "issued": {
      "year": "2011"
     },
     "page": "13–21",
     "page-first": "13",
     "title": "Python: an ecosystem for scientific computing",
     "type": "article-journal",
     "volume": "13"
    },
    "5251998/K3NZPGU9": {
     "author": [
      {
       "family": "McKinney",
       "given": "W."
      }
     ],
     "container-title": "proceedings of the 9th Python in Science Conference",
     "editor": [
      {
       "family": "Walt",
       "given": "S. J. van der"
      },
      {
       "family": "Millman",
       "given": "K. J."
      }
     ],
     "event-place": "Austin, Texas",
     "id": "5251998/K3NZPGU9",
     "issued": {
      "month": "7",
      "year": "2010"
     },
     "publisher-place": "Austin, Texas",
     "title": "Data structures for statistical computing in Python",
     "type": "paper-conference"
    },
    "5251998/NSFX6VMN": {
     "author": [
      {
       "family": "Waskom",
       "given": "M"
      },
      {
       "family": "Botvinnik",
       "given": "O"
      },
      {
       "family": "Hobson",
       "given": "P"
      },
      {
       "family": "Warmenhoven",
       "given": "J"
      },
      {
       "family": "Cole",
       "given": "JB"
      },
      {
       "family": "Halchenko",
       "given": "Y"
      },
      {
       "family": "Vanderplas",
       "given": "J"
      },
      {
       "family": "Hoyer",
       "given": "S"
      },
      {
       "family": "Villalba",
       "given": "S"
      },
      {
       "family": "Quintero",
       "given": "E"
      },
      {
       "family": "others",
       "given": ""
      }
     ],
     "id": "5251998/NSFX6VMN",
     "issued": {
      "year": "2014"
     },
     "publisher": "Stanford, California",
     "title": "Seaborn: statistical data visualization",
     "type": "book"
    },
    "5251998/SBYLEUVD": {
     "author": [
      {
       "family": "Pedregosa",
       "given": "Fabian"
      },
      {
       "family": "Varoquaux",
       "given": "Gaël"
      },
      {
       "family": "Gramfort",
       "given": "Alexandre"
      },
      {
       "family": "Michel",
       "given": "Vincent"
      },
      {
       "family": "Thirion",
       "given": "Bertrand"
      },
      {
       "family": "Grisel",
       "given": "Olivier"
      },
      {
       "family": "Blondel",
       "given": "Mathieu"
      },
      {
       "family": "Prettenhofer",
       "given": "Peter"
      },
      {
       "family": "Weiss",
       "given": "Ron"
      },
      {
       "family": "Dubourg",
       "given": "Vincent"
      },
      {
       "family": "others",
       "given": ""
      }
     ],
     "container-title": "Journal of Machine Learning Research",
     "id": "5251998/SBYLEUVD",
     "issue": "Oct",
     "issued": {
      "year": "2011"
     },
     "page": "2825–2830",
     "page-first": "2825",
     "title": "Scikit-learn: Machine learning in Python",
     "type": "article-journal",
     "volume": "12"
    },
    "5251998/SH25XT8L": {
     "author": [
      {
       "family": "Pérez",
       "given": "F."
      },
      {
       "family": "Granger",
       "given": "B. E."
      }
     ],
     "container-title": "Computing in Science & Engineering",
     "id": "5251998/SH25XT8L",
     "issue": "3",
     "issued": {
      "month": "5",
      "year": "2007"
     },
     "page": "21–29",
     "page-first": "21",
     "title": "IPython: a System for Interactive Scientific Computing",
     "type": "article-journal",
     "volume": "9"
    },
    "5251998/UXR4ZTUS": {
     "URL": "http://eutils.ncbi.nlm.nih.gov/entrez/eutils/elink.fcgi?cmd=prlinks&dbfrom=pubmed&retmode=ref&id=20688986",
     "author": [
      {
       "family": "Couzin-Frankel",
       "given": "J."
      }
     ],
     "container-title": "Science",
     "id": "5251998/UXR4ZTUS",
     "issue": "5992",
     "issued": {
      "year": "2010"
     },
     "language": "eng",
     "page": "614–5",
     "page-first": "614",
     "title": "Cancer research. As questions grow, Duke halts trials, launches investigation.",
     "type": "article-journal",
     "volume": "329"
    },
    "5251998/WP5LZ6AZ": {
     "abstract": "Matplotlib is a 2D graphics package used for Python for application development, interactive scripting, and publication-quality image generation across user interfaces and operating systems.",
     "author": [
      {
       "family": "Hunter",
       "given": "J. D."
      }
     ],
     "container-title": "Computing In Science & Engineering",
     "id": "5251998/WP5LZ6AZ",
     "issue": "3",
     "issued": {
      "month": "5",
      "year": "2007"
     },
     "page": "90–95",
     "page-first": "90",
     "title": "Matplotlib: A 2D graphics environment",
     "type": "article-journal",
     "volume": "9"
    }
   }
  },
  "hide_input": false,
  "kernelspec": {
   "display_name": "Python 3",
   "language": "python",
   "name": "python3"
  },
  "toc": {
   "nav_menu": {},
   "number_sections": true,
   "sideBar": true,
   "skip_h1_title": true,
   "toc_cell": true,
   "toc_position": {},
   "toc_section_display": "block",
   "toc_window_display": false
  }
 },
 "nbformat": 4,
 "nbformat_minor": 1
}
